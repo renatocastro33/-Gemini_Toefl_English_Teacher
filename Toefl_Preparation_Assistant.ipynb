{
 "cells": [
  {
   "cell_type": "markdown",
   "id": "7f950c12",
   "metadata": {
    "papermill": {
     "duration": 0.00529,
     "end_time": "2025-04-21T06:16:09.043910",
     "exception": false,
     "start_time": "2025-04-21T06:16:09.038620",
     "status": "completed"
    },
    "tags": []
   },
   "source": [
    "This project demonstrates how to use Google's Generative AI (Gemini) to build an intelligent assistant that helps students prepare for the TOEFL exam, specifically the reading and listening comprehension sections.\n",
    "\n",
    "The assistant performs the following tasks:\n",
    "\n",
    "🧾 Document Understanding: It takes a reading passage (e.g., from a PDF or transcript) and understands the academic content.\n",
    "\n",
    "🧠 Question Generation with Structured Output: It generates multiple-choice TOEFL-style questions in JSON format, including distractors, the correct answer, and explanations.\n",
    "\n",
    "🎧 Interactive Quiz Loop: It simulates a TOEFL test experience by asking the user to input answers and provides real-time feedback and score evaluation.\n",
    "\n",
    "🪄 Few-shot Prompting: It guides the model with examples to generate high-quality questions and varied answer distributions.\n",
    "\n",
    "The entire process is integrated in a Kaggle Notebook, with structured prompts and response parsing to automate test generation and evaluation — offering a scalable way to practice TOEFL reading/listening/speaking skills with minimal supervision."
   ]
  },
  {
   "cell_type": "markdown",
   "id": "a7fd5313",
   "metadata": {
    "papermill": {
     "duration": 0.00403,
     "end_time": "2025-04-21T06:16:09.052430",
     "exception": false,
     "start_time": "2025-04-21T06:16:09.048400",
     "status": "completed"
    },
    "tags": []
   },
   "source": [
    "# Installing Libraries"
   ]
  },
  {
   "cell_type": "code",
   "execution_count": 1,
   "id": "aa61df21",
   "metadata": {
    "_cell_guid": "b1076dfc-b9ad-4769-8c92-a6c4dae69d19",
    "_uuid": "8f2839f25d086af736a60e9eeb907d3b93b6e0e5",
    "execution": {
     "iopub.execute_input": "2025-04-21T06:16:09.063240Z",
     "iopub.status.busy": "2025-04-21T06:16:09.062983Z",
     "iopub.status.idle": "2025-04-21T06:16:18.456620Z",
     "shell.execute_reply": "2025-04-21T06:16:18.455710Z"
    },
    "papermill": {
     "duration": 9.400439,
     "end_time": "2025-04-21T06:16:18.458073",
     "exception": false,
     "start_time": "2025-04-21T06:16:09.057634",
     "status": "completed"
    },
    "tags": []
   },
   "outputs": [
    {
     "name": "stdout",
     "output_type": "stream",
     "text": [
      "\u001b[2K   \u001b[90m━━━━━━━━━━━━━━━━━━━━━━━━━━━━━━━━━━━━━━━━\u001b[0m \u001b[32m144.7/144.7 kB\u001b[0m \u001b[31m6.9 MB/s\u001b[0m eta \u001b[36m0:00:00\u001b[0m\r\n",
      "\u001b[2K   \u001b[90m━━━━━━━━━━━━━━━━━━━━━━━━━━━━━━━━━━━━━━━━\u001b[0m \u001b[32m100.9/100.9 kB\u001b[0m \u001b[31m5.5 MB/s\u001b[0m eta \u001b[36m0:00:00\u001b[0m\r\n",
      "\u001b[?25h\u001b[31mERROR: pip's dependency resolver does not currently take into account all the packages that are installed. This behaviour is the source of the following dependency conflicts.\r\n",
      "jupyterlab-lsp 3.10.2 requires jupyterlab<4.0.0a0,>=3.1.0, which is not installed.\u001b[0m\u001b[31m\r\n",
      "\u001b[0mRequirement already satisfied: google-generativeai in /usr/local/lib/python3.11/dist-packages (0.8.4)\r\n",
      "Collecting python-dotenv\r\n",
      "  Downloading python_dotenv-1.1.0-py3-none-any.whl.metadata (24 kB)\r\n",
      "Collecting youtube-transcript-api\r\n",
      "  Downloading youtube_transcript_api-1.0.3-py3-none-any.whl.metadata (23 kB)\r\n",
      "Requirement already satisfied: google-ai-generativelanguage==0.6.15 in /usr/local/lib/python3.11/dist-packages (from google-generativeai) (0.6.15)\r\n",
      "Requirement already satisfied: google-api-core in /usr/local/lib/python3.11/dist-packages (from google-generativeai) (1.34.1)\r\n",
      "Requirement already satisfied: google-api-python-client in /usr/local/lib/python3.11/dist-packages (from google-generativeai) (2.160.0)\r\n",
      "Requirement already satisfied: google-auth>=2.15.0 in /usr/local/lib/python3.11/dist-packages (from google-generativeai) (2.27.0)\r\n",
      "Requirement already satisfied: protobuf in /usr/local/lib/python3.11/dist-packages (from google-generativeai) (3.20.3)\r\n",
      "Requirement already satisfied: pydantic in /usr/local/lib/python3.11/dist-packages (from google-generativeai) (2.11.3)\r\n",
      "Requirement already satisfied: tqdm in /usr/local/lib/python3.11/dist-packages (from google-generativeai) (4.67.1)\r\n",
      "Requirement already satisfied: typing-extensions in /usr/local/lib/python3.11/dist-packages (from google-generativeai) (4.13.1)\r\n",
      "Requirement already satisfied: proto-plus<2.0.0dev,>=1.22.3 in /usr/local/lib/python3.11/dist-packages (from google-ai-generativelanguage==0.6.15->google-generativeai) (1.26.0)\r\n",
      "Requirement already satisfied: defusedxml<0.8.0,>=0.7.1 in /usr/local/lib/python3.11/dist-packages (from youtube-transcript-api) (0.7.1)\r\n",
      "Requirement already satisfied: requests in /usr/local/lib/python3.11/dist-packages (from youtube-transcript-api) (2.32.3)\r\n",
      "Requirement already satisfied: googleapis-common-protos<2.0dev,>=1.56.2 in /usr/local/lib/python3.11/dist-packages (from google-api-core->google-generativeai) (1.67.0)\r\n",
      "Requirement already satisfied: cachetools<6.0,>=2.0.0 in /usr/local/lib/python3.11/dist-packages (from google-auth>=2.15.0->google-generativeai) (5.5.2)\r\n",
      "Requirement already satisfied: pyasn1-modules>=0.2.1 in /usr/local/lib/python3.11/dist-packages (from google-auth>=2.15.0->google-generativeai) (0.4.1)\r\n",
      "Requirement already satisfied: rsa<5,>=3.1.4 in /usr/local/lib/python3.11/dist-packages (from google-auth>=2.15.0->google-generativeai) (4.9)\r\n",
      "Requirement already satisfied: charset-normalizer<4,>=2 in /usr/local/lib/python3.11/dist-packages (from requests->youtube-transcript-api) (3.4.1)\r\n",
      "Requirement already satisfied: idna<4,>=2.5 in /usr/local/lib/python3.11/dist-packages (from requests->youtube-transcript-api) (3.10)\r\n",
      "Requirement already satisfied: urllib3<3,>=1.21.1 in /usr/local/lib/python3.11/dist-packages (from requests->youtube-transcript-api) (2.3.0)\r\n",
      "Requirement already satisfied: certifi>=2017.4.17 in /usr/local/lib/python3.11/dist-packages (from requests->youtube-transcript-api) (2025.1.31)\r\n",
      "Requirement already satisfied: httplib2<1.dev0,>=0.19.0 in /usr/local/lib/python3.11/dist-packages (from google-api-python-client->google-generativeai) (0.22.0)\r\n",
      "Requirement already satisfied: google-auth-httplib2<1.0.0,>=0.2.0 in /usr/local/lib/python3.11/dist-packages (from google-api-python-client->google-generativeai) (0.2.0)\r\n",
      "Requirement already satisfied: uritemplate<5,>=3.0.1 in /usr/local/lib/python3.11/dist-packages (from google-api-python-client->google-generativeai) (4.1.1)\r\n",
      "Requirement already satisfied: annotated-types>=0.6.0 in /usr/local/lib/python3.11/dist-packages (from pydantic->google-generativeai) (0.7.0)\r\n",
      "Requirement already satisfied: pydantic-core==2.33.1 in /usr/local/lib/python3.11/dist-packages (from pydantic->google-generativeai) (2.33.1)\r\n",
      "Requirement already satisfied: typing-inspection>=0.4.0 in /usr/local/lib/python3.11/dist-packages (from pydantic->google-generativeai) (0.4.0)\r\n",
      "Requirement already satisfied: grpcio<2.0dev,>=1.33.2 in /usr/local/lib/python3.11/dist-packages (from google-api-core[grpc]!=2.0.*,!=2.1.*,!=2.10.*,!=2.2.*,!=2.3.*,!=2.4.*,!=2.5.*,!=2.6.*,!=2.7.*,!=2.8.*,!=2.9.*,<3.0.0dev,>=1.34.1->google-ai-generativelanguage==0.6.15->google-generativeai) (1.70.0)\r\n",
      "Requirement already satisfied: grpcio-status<2.0dev,>=1.33.2 in /usr/local/lib/python3.11/dist-packages (from google-api-core[grpc]!=2.0.*,!=2.1.*,!=2.10.*,!=2.2.*,!=2.3.*,!=2.4.*,!=2.5.*,!=2.6.*,!=2.7.*,!=2.8.*,!=2.9.*,<3.0.0dev,>=1.34.1->google-ai-generativelanguage==0.6.15->google-generativeai) (1.48.2)\r\n",
      "Requirement already satisfied: pyparsing!=3.0.0,!=3.0.1,!=3.0.2,!=3.0.3,<4,>=2.4.2 in /usr/local/lib/python3.11/dist-packages (from httplib2<1.dev0,>=0.19.0->google-api-python-client->google-generativeai) (3.2.1)\r\n",
      "Requirement already satisfied: pyasn1<0.7.0,>=0.4.6 in /usr/local/lib/python3.11/dist-packages (from pyasn1-modules>=0.2.1->google-auth>=2.15.0->google-generativeai) (0.6.1)\r\n",
      "Downloading python_dotenv-1.1.0-py3-none-any.whl (20 kB)\r\n",
      "Downloading youtube_transcript_api-1.0.3-py3-none-any.whl (2.2 MB)\r\n",
      "\u001b[2K   \u001b[90m━━━━━━━━━━━━━━━━━━━━━━━━━━━━━━━━━━━━━━━━\u001b[0m \u001b[32m2.2/2.2 MB\u001b[0m \u001b[31m53.4 MB/s\u001b[0m eta \u001b[36m0:00:00\u001b[0m\r\n",
      "\u001b[?25hInstalling collected packages: python-dotenv, youtube-transcript-api\r\n",
      "Successfully installed python-dotenv-1.1.0 youtube-transcript-api-1.0.3\r\n"
     ]
    }
   ],
   "source": [
    "!pip uninstall -qy jupyterlab  # Remove unused packages from Kaggle's base image that conflict\n",
    "!pip install -U -q \"google-genai==1.7.0\"\n",
    "!pip install google-generativeai python-dotenv youtube-transcript-api"
   ]
  },
  {
   "cell_type": "markdown",
   "id": "e0d3f4e9",
   "metadata": {
    "papermill": {
     "duration": 0.004657,
     "end_time": "2025-04-21T06:16:18.468355",
     "exception": false,
     "start_time": "2025-04-21T06:16:18.463698",
     "status": "completed"
    },
    "tags": []
   },
   "source": [
    "# Setting API Keys"
   ]
  },
  {
   "cell_type": "code",
   "execution_count": 2,
   "id": "2868cd0f",
   "metadata": {
    "execution": {
     "iopub.execute_input": "2025-04-21T06:16:18.479443Z",
     "iopub.status.busy": "2025-04-21T06:16:18.479140Z",
     "iopub.status.idle": "2025-04-21T06:16:19.578819Z",
     "shell.execute_reply": "2025-04-21T06:16:19.578140Z"
    },
    "papermill": {
     "duration": 1.106942,
     "end_time": "2025-04-21T06:16:19.580274",
     "exception": false,
     "start_time": "2025-04-21T06:16:18.473332",
     "status": "completed"
    },
    "tags": []
   },
   "outputs": [],
   "source": [
    "# Libraries\n",
    "from google import genai\n",
    "from google.genai import types\n",
    "from google.api_core import retry\n",
    "import json\n",
    "from IPython.display import HTML, Markdown, display\n",
    "import re\n",
    "import random"
   ]
  },
  {
   "cell_type": "code",
   "execution_count": 3,
   "id": "11319ed5",
   "metadata": {
    "execution": {
     "iopub.execute_input": "2025-04-21T06:16:19.591509Z",
     "iopub.status.busy": "2025-04-21T06:16:19.591158Z",
     "iopub.status.idle": "2025-04-21T06:16:19.764002Z",
     "shell.execute_reply": "2025-04-21T06:16:19.763220Z"
    },
    "papermill": {
     "duration": 0.179833,
     "end_time": "2025-04-21T06:16:19.765492",
     "exception": false,
     "start_time": "2025-04-21T06:16:19.585659",
     "status": "completed"
    },
    "tags": []
   },
   "outputs": [],
   "source": [
    "# Get API Key\n",
    "from kaggle_secrets import UserSecretsClient\n",
    "\n",
    "GOOGLE_API_KEY = UserSecretsClient().get_secret(\"GOOGLE_API_KEY\")"
   ]
  },
  {
   "cell_type": "code",
   "execution_count": 4,
   "id": "f8c82fcf",
   "metadata": {
    "execution": {
     "iopub.execute_input": "2025-04-21T06:16:19.776398Z",
     "iopub.status.busy": "2025-04-21T06:16:19.776170Z",
     "iopub.status.idle": "2025-04-21T06:16:19.780090Z",
     "shell.execute_reply": "2025-04-21T06:16:19.779515Z"
    },
    "papermill": {
     "duration": 0.01035,
     "end_time": "2025-04-21T06:16:19.781079",
     "exception": false,
     "start_time": "2025-04-21T06:16:19.770729",
     "status": "completed"
    },
    "tags": []
   },
   "outputs": [],
   "source": [
    "# Setup retry\n",
    "is_retriable = lambda e: (isinstance(e, genai.errors.APIError) and e.code in {429, 503})\n",
    "\n",
    "genai.models.Models.generate_content = retry.Retry(\n",
    "    predicate=is_retriable)(genai.models.Models.generate_content)"
   ]
  },
  {
   "cell_type": "code",
   "execution_count": 5,
   "id": "7719ac0a",
   "metadata": {
    "execution": {
     "iopub.execute_input": "2025-04-21T06:16:19.790987Z",
     "iopub.status.busy": "2025-04-21T06:16:19.790812Z",
     "iopub.status.idle": "2025-04-21T06:16:20.032789Z",
     "shell.execute_reply": "2025-04-21T06:16:20.032087Z"
    },
    "papermill": {
     "duration": 0.248429,
     "end_time": "2025-04-21T06:16:20.034183",
     "exception": false,
     "start_time": "2025-04-21T06:16:19.785754",
     "status": "completed"
    },
    "tags": []
   },
   "outputs": [],
   "source": [
    "# Setting client\n",
    "client = genai.Client(api_key=GOOGLE_API_KEY)"
   ]
  },
  {
   "cell_type": "markdown",
   "id": "276338f2",
   "metadata": {
    "papermill": {
     "duration": 0.004464,
     "end_time": "2025-04-21T06:16:20.043952",
     "exception": false,
     "start_time": "2025-04-21T06:16:20.039488",
     "status": "completed"
    },
    "tags": []
   },
   "source": [
    "# Capacity 1: Document Understanding & Structured output/JSON mode/controlled generation & Few Shot"
   ]
  },
  {
   "cell_type": "markdown",
   "id": "2d46d98c",
   "metadata": {
    "papermill": {
     "duration": 0.004449,
     "end_time": "2025-04-21T06:16:20.053164",
     "exception": false,
     "start_time": "2025-04-21T06:16:20.048715",
     "status": "completed"
    },
    "tags": []
   },
   "source": [
    "In this section, we demonstrate the ability of the Generative AI model (Gemini) to understand an academic passage and generate structured TOEFL-style multiple-choice questions.\n",
    "\n",
    "This task showcases three key Gen AI capabilities:\n",
    "\n",
    "- **🧠 Document Understanding:** The model processes a full passage (from a PDF and extracts the key ideas needed to formulate relevant questions.\n",
    "- **🧾 Structured Output (JSON):** The generated questions are formatted as JSON objects, including the question, options, correct answer, and explanation. This format allows for automated grading and further processing.\n",
    "- **🎯 Few-Shot Prompting:** The prompt includes examples of properly formatted questions to guide the model’s output style and quality, ensuring it adheres to the TOEFL format.\n",
    "\n",
    "This structured generation simulates the kind of test material seen in real TOEFL exams, and sets the foundation for the interactive quiz evaluation built later in the notebook."
   ]
  },
  {
   "cell_type": "markdown",
   "id": "1c428d20",
   "metadata": {
    "papermill": {
     "duration": 0.004354,
     "end_time": "2025-04-21T06:16:20.062147",
     "exception": false,
     "start_time": "2025-04-21T06:16:20.057793",
     "status": "completed"
    },
    "tags": []
   },
   "source": [
    "## 🧠 Interactive Quiz Function: `GenerateQuiz(response, inputEnable)`\n",
    "\n",
    "This function creates and runs an interactive TOEFL-style quiz based on questions generated by the Gemini model.\n",
    "\n",
    "### 🔍 Function Parameters:\n",
    "- `response`: The output object from Gemini containing a JSON-formatted list of questions.\n",
    "- `inputEnable` (`bool`): \n",
    "  - If `True`, the quiz will prompt the user to manually input answers.\n",
    "  - If `False`, the system will randomly select answers (useful for simulation or testing).\n",
    "\n",
    "### ⚙️ What It Does:\n",
    "1. **Parses the Gemini Response**:\n",
    "   - Extracts and cleans the generated JSON string.\n",
    "   - Converts it into a list of questions using `json.loads()`.\n",
    "\n",
    "2. **Runs a Quiz Loop**:\n",
    "   - Displays each question and its options.\n",
    "   - Accepts user input (or simulates an answer randomly).\n",
    "   - Compares the user’s answer with the correct one.\n",
    "   - Prints feedback and the explanation for each question.\n",
    "\n",
    "3. **Tracks Score**:\n",
    "   - Keeps a running score.\n",
    "   - Outputs the final result at the end of the quiz.\n",
    "\n",
    "### 📦 Capabilities Demonstrated:\n",
    "- Interactive evaluation of Gen AI output\n",
    "- Automated grading of structured responses\n",
    "- Simulation-ready mode (for batch testing without user input)\n",
    "\n",
    "This function is key to turning static question generation into a dynamic learning experience, simulating the TOEFL environment and offering immediate feedback."
   ]
  },
  {
   "cell_type": "code",
   "execution_count": 6,
   "id": "495a51db",
   "metadata": {
    "execution": {
     "iopub.execute_input": "2025-04-21T06:16:20.072335Z",
     "iopub.status.busy": "2025-04-21T06:16:20.072052Z",
     "iopub.status.idle": "2025-04-21T06:16:20.077675Z",
     "shell.execute_reply": "2025-04-21T06:16:20.077009Z"
    },
    "papermill": {
     "duration": 0.01198,
     "end_time": "2025-04-21T06:16:20.078621",
     "exception": false,
     "start_time": "2025-04-21T06:16:20.066641",
     "status": "completed"
    },
    "tags": []
   },
   "outputs": [],
   "source": [
    "def GenerateQuiz(response, inputEnable):\n",
    "\n",
    "    raw_text = response.candidates[0].content.parts[0].text\n",
    "    cleaned_text = re.sub(r\"```json|```\", \"\", raw_text).strip()\n",
    "\n",
    "    # Step 1: Parse the JSON\n",
    "    questions = json.loads(cleaned_text)\n",
    "    \n",
    "    # Step 2: Quiz loop\n",
    "    score = 0\n",
    "    \n",
    "    print(\"🧠 TOEFL Reading Quiz - Powered by Gemini\\n\")\n",
    "    \n",
    "    for i, q in enumerate(questions):\n",
    "        print(f\"Question {i+1}: {q['question']}\")\n",
    "        for opt in q['options']:\n",
    "            print(opt)\n",
    "        \n",
    "        if inputEnable:\n",
    "            user_answer = input(\"Your answer (A/B/C/D): \").strip().upper()\n",
    "        else:\n",
    "            options = [\"A\", \"B\", \"C\", \"D\"]\n",
    "\n",
    "            # Select one randomly\n",
    "            user_answer = random.choice(options)\n",
    "        \n",
    "        if user_answer == q['answer']:\n",
    "            print(\"✅ Correct!\")\n",
    "            score += 1\n",
    "        else:\n",
    "            print(f\"❌ Incorrect. The correct answer was {q['answer']}.\")\n",
    "        \n",
    "        print(\"Explanation:\", q['explanation'])\n",
    "        print(\"-\" * 60)\n",
    "    \n",
    "    # Final Score\n",
    "    print(f\"\\n🎯 Your final score: {score} / {len(questions)}\")"
   ]
  },
  {
   "cell_type": "markdown",
   "id": "ac62e4b7",
   "metadata": {
    "papermill": {
     "duration": 0.004401,
     "end_time": "2025-04-21T06:16:20.087716",
     "exception": false,
     "start_time": "2025-04-21T06:16:20.083315",
     "status": "completed"
    },
    "tags": []
   },
   "source": [
    "## 📄 Question Generation from PDF: `GenerateQuestionsFromDocumentFile(document_filepath, number_of_questions=3, inputEnable=True)`\n",
    "\n",
    "This function allows users to generate TOEFL-style multiple-choice questions directly from an **academic passage stored in a PDF document**.\n",
    "\n",
    "### 🔍 Function Parameters:\n",
    "- `document_filepath` (`str`): Path to the PDF file containing the passage.\n",
    "- `number_of_questions` (`int`, default = 3): The number of multiple-choice questions to generate.\n",
    "- `inputEnable` (`bool`, default = `True`): \n",
    "  - If `True`, the user is prompted to manually answer the questions.\n",
    "  - If `False`, the assistant answers randomly (for testing or simulation).\n",
    "\n",
    "### ⚙️ What It Does:\n",
    "1. **Uploads the Document**:\n",
    "   - The file is uploaded using the Gen AI file API to make its contents available to the model.\n",
    "\n",
    "2. **Constructs a Prompt**:\n",
    "   - Sends a well-defined prompt to Gemini including:\n",
    "     - The academic passage.\n",
    "     - A sample JSON structure for output.\n",
    "     - Constraints to ensure randomness in correct answer placement.\n",
    "     - A request for structured TOEFL-style questions with answers and explanations.\n",
    "\n",
    "3. **Calls Gemini API**:\n",
    "   - Sends the prompt and document to the model.\n",
    "   - Receives a structured JSON response with questions.\n",
    "\n",
    "4. **Runs Interactive Quiz**:\n",
    "   - Passes the model's response to the `GenerateQuiz()` function.\n",
    "   - Delivers an interactive quiz to the user or simulates one.\n",
    "\n",
    "### 🎯 Capabilities Demonstrated:\n",
    "- ✅ Document Understanding (from PDF)\n",
    "- ✅ Structured Output / JSON\n",
    "- ✅ Controlled Generation (with formatting and behavior constraints)\n",
    "- ✅ Few-Shot Prompting (via sample question format)\n",
    "\n",
    "This function forms the **core user interface** of the project, turning any academic PDF into an intelligent and evaluable TOEFL practice quiz."
   ]
  },
  {
   "cell_type": "code",
   "execution_count": 7,
   "id": "478f3908",
   "metadata": {
    "execution": {
     "iopub.execute_input": "2025-04-21T06:16:20.098195Z",
     "iopub.status.busy": "2025-04-21T06:16:20.097565Z",
     "iopub.status.idle": "2025-04-21T06:16:20.102603Z",
     "shell.execute_reply": "2025-04-21T06:16:20.101995Z"
    },
    "papermill": {
     "duration": 0.01127,
     "end_time": "2025-04-21T06:16:20.103445",
     "exception": false,
     "start_time": "2025-04-21T06:16:20.092175",
     "status": "completed"
    },
    "tags": []
   },
   "outputs": [],
   "source": [
    "def GenerateQuestionsFromDocumentFile(document_filepath, number_of_questions = 3, inputEnable = True):\n",
    "\n",
    "    document_file = client.files.upload(file=document_filepath)\n",
    "    \n",
    "    # Ask the model to generate a transcript of the audio\n",
    "    prompt_for_document = \"\"\"\n",
    "    You are a TOEFL reading assistant. Based on the following academic passage extracted from a PDF document, create {0} multiple choice questions. \n",
    "    \n",
    "    Each question should follow this structure in JSON format:\n",
    "    [\n",
    "    {{\n",
    "        \"question\": \"What is the main idea of the passage?\",\n",
    "        \"options\": [\"A. ...\", \"B. ...\", \"C. ...\", \"D. ...\"],\n",
    "        \"answer\": \"B\",\n",
    "        \"explanation\": \"Option B is correct because it reflects the main argument of the passage.\"\n",
    "    }},\n",
    "      ,\n",
    "    {{\n",
    "        \"question\": \"According to the passage, what is one reason that supports more the main argument of the passage?\",\n",
    "        \"options\": [\"A. ...\", \"B. ...\", \"C. ...\", \"D. ...\"],\n",
    "        \"answer\": \"D\",\n",
    "        \"explanation\": \"Option A is correct because it supports the main argument with facts.\"\n",
    "    }}\n",
    "      ...\n",
    "    ]\n",
    "\n",
    "    Important restrictions for the answers:\n",
    "    - Do not place the correct answer in the same position each time.\n",
    "    - Randomly shuffle the order of options per question.\n",
    "    - Avoid repeating the correct answer in the same letter position across multiple questions.\n",
    "    \n",
    "    Passage:\n",
    "    {1}\n",
    "    \"\"\".format(number_of_questions, document_file)\n",
    "\n",
    "    # Run the prompt and audio through the model\n",
    "    response = client.models.generate_content(\n",
    "      model='gemini-2.0-flash-thinking-exp',\n",
    "      config=types.GenerateContentConfig(temperature=2.0),\n",
    "      contents=[prompt_for_document, document_file]\n",
    "    )\n",
    "\n",
    "    GenerateQuiz(response, inputEnable)"
   ]
  },
  {
   "cell_type": "markdown",
   "id": "34a35c6a",
   "metadata": {
    "papermill": {
     "duration": 0.004361,
     "end_time": "2025-04-21T06:16:20.112355",
     "exception": false,
     "start_time": "2025-04-21T06:16:20.107994",
     "status": "completed"
    },
    "tags": []
   },
   "source": [
    "# Exercises for Capacity 1 Document Understanding"
   ]
  },
  {
   "cell_type": "markdown",
   "id": "171d70e4",
   "metadata": {
    "papermill": {
     "duration": 0.004287,
     "end_time": "2025-04-21T06:16:20.121134",
     "exception": false,
     "start_time": "2025-04-21T06:16:20.116847",
     "status": "completed"
    },
    "tags": []
   },
   "source": [
    "In order you can input your own answers based on the PDF Files, you can set the variable inputEnable = True, for simulation purposes and so the notebook will not give any error we use inputEnable = False which selects randomly an answer"
   ]
  },
  {
   "cell_type": "code",
   "execution_count": 8,
   "id": "da37f5ae",
   "metadata": {
    "execution": {
     "iopub.execute_input": "2025-04-21T06:16:20.131221Z",
     "iopub.status.busy": "2025-04-21T06:16:20.130931Z",
     "iopub.status.idle": "2025-04-21T06:16:30.737973Z",
     "shell.execute_reply": "2025-04-21T06:16:30.737031Z"
    },
    "papermill": {
     "duration": 10.613812,
     "end_time": "2025-04-21T06:16:30.739415",
     "exception": false,
     "start_time": "2025-04-21T06:16:20.125603",
     "status": "completed"
    },
    "tags": []
   },
   "outputs": [
    {
     "name": "stdout",
     "output_type": "stream",
     "text": [
      "🧠 TOEFL Reading Quiz - Powered by Gemini\n",
      "\n",
      "Question 1: What is the primary subject explored in this passage?\n",
      "A. The geological timescale and its divisions.\n",
      "B. The climate and geography of the Mesozoic Era.\n",
      "C. Theories surrounding the extinction of dinosaurs.\n",
      "D. The properties and distribution of the element iridium.\n",
      "❌ Incorrect. The correct answer was C.\n",
      "Explanation: Option C is correct because the passage primarily discusses different theories explaining the extinction of dinosaurs, evaluating both climatic change and asteroid impact hypotheses.\n",
      "------------------------------------------------------------\n",
      "Question 2: According to the passage, which of the following observations weakens the theory that simple climatic change due to sea-level retreat caused dinosaur extinction?\n",
      "A.  The relatively constant temperature maintained by shallow seas during the Cretaceous.\n",
      "B. The discovery of iridium in a clay layer marking the end of the Cretaceous period.\n",
      "C. The survival of cold-blooded animals like snakes and crocodiles through extreme temperature changes.\n",
      "D.  The fact that sea levels retreated and advanced multiple times during the Mesozoic Era.\n",
      "✅ Correct!\n",
      "Explanation: Option C is correct because the passage raises the question of why cold-blooded animals survived extreme temperatures if climate change solely caused the dinosaur extinction, challenging the simple climate change hypothesis.\n",
      "------------------------------------------------------------\n",
      "Question 3: What piece of evidence does the passage present as support for the asteroid impact hypothesis?\n",
      "A.  The gradual changes in continental positions over millions of years.\n",
      "B.  The extensive areas of continents covered by shallow seas during the Cretaceous.\n",
      "C.  The dramatic shift from mild to extreme climates at the end of the Cretaceous period.\n",
      "D.  The presence of an unusually high concentration of iridium in the boundary clay layer.\n",
      "❌ Incorrect. The correct answer was D.\n",
      "Explanation: Option D is correct because the passage explicitly mentions the unusually high concentration of iridium in the boundary clay as evidence supporting the asteroid impact theory.\n",
      "------------------------------------------------------------\n",
      "\n",
      "🎯 Your final score: 1 / 3\n"
     ]
    }
   ],
   "source": [
    "GenerateQuestionsFromDocumentFile(document_filepath = '/kaggle/input/Sample_1_Text.pdf',\n",
    "                                  number_of_questions = 3, inputEnable = False)"
   ]
  },
  {
   "cell_type": "code",
   "execution_count": 9,
   "id": "dce7cf8d",
   "metadata": {
    "execution": {
     "iopub.execute_input": "2025-04-21T06:16:30.750759Z",
     "iopub.status.busy": "2025-04-21T06:16:30.750531Z",
     "iopub.status.idle": "2025-04-21T06:16:43.028123Z",
     "shell.execute_reply": "2025-04-21T06:16:43.027248Z"
    },
    "papermill": {
     "duration": 12.284608,
     "end_time": "2025-04-21T06:16:43.029505",
     "exception": false,
     "start_time": "2025-04-21T06:16:30.744897",
     "status": "completed"
    },
    "tags": []
   },
   "outputs": [
    {
     "name": "stdout",
     "output_type": "stream",
     "text": [
      "🧠 TOEFL Reading Quiz - Powered by Gemini\n",
      "\n",
      "Question 1: What is the central theme of the passage regarding the rise of Teotihuacan?\n",
      "A. The primary factor in Teotihuacan's growth was its superior military might that overshadowed neighboring cities.\n",
      "B. Teotihuacan's strategic geographic location and abundant natural resources played a crucial role in its development.\n",
      "C. Religious reforms and the construction of massive religious edifices were the sole reasons for Teotihuacan's expansion.\n",
      "D.  Centralized urban planning and advanced administrative techniques independently led to Teotihuacan's dominance.\n",
      "❌ Incorrect. The correct answer was B.\n",
      "Explanation: Option B is correct because the passage emphasizes the significance of Teotihuacan's geographic location, natural trade route, and obsidian resources as key factors contributing to its rise and prosperity.  These elements are highlighted as fundamental advantages that propelled its development.\n",
      "------------------------------------------------------------\n",
      "Question 2: According to the passage, what event concerning Cuicuilco indirectly facilitated Teotihuacan's ascent as a major power?\n",
      "A.  A successful military invasion of Cuicuilco by Teotihuacan forces.\n",
      "B. A major drought that devastated Cuicuilco's agricultural capabilities.\n",
      "C.  A volcanic eruption that severely damaged Cuicuilco.\n",
      "D.  A shift in religious practices away from Cuicuilco towards Teotihuacan.\n",
      "❌ Incorrect. The correct answer was C.\n",
      "Explanation: Option C is correct because the passage explicitly states that Cuicuilco, the largest center before 200 B.C., was 'seriously affected by a volcanic eruption'. This event 'eliminated' Cuicuilco as a potential rival, allowing Teotihuacan to emerge as the dominant power in the region.\n",
      "------------------------------------------------------------\n",
      "Question 3: Based on the text, in what way did obsidian resources specifically contribute to Teotihuacan's economic and population growth?\n",
      "A. Obsidian was primarily used locally within Teotihuacan for constructing religious monuments, stimulating internal employment.\n",
      "B.  The abundance of obsidian allowed Teotihuacan to develop superior weaponry, leading to military victories and territorial expansion.\n",
      "C.  Obsidian served as a valuable trade commodity, attracting wealth, skilled laborers, and immigrants to Teotihuacan.\n",
      "D.  The artistic carving of obsidian for ornamental purposes generated revenue from elites within Teotihuacan society.\n",
      "❌ Incorrect. The correct answer was C.\n",
      "Explanation: Option C is correct because the passage indicates that the valley was 'rich in obsidian' and that 'long-distance trade in obsidian probably gave the elite residents of Teotihuacán access to a wide variety of exotic goods'. The thriving obsidian operation necessitated more miners, manufacturers, and traders, suggesting that obsidian trade played a significant role in economic growth and attracting population through labor opportunities and wealth creation.\n",
      "------------------------------------------------------------\n",
      "\n",
      "🎯 Your final score: 0 / 3\n"
     ]
    }
   ],
   "source": [
    "GenerateQuestionsFromDocumentFile(document_filepath = '/kaggle/input/Sample_2_Text.pdf',\n",
    "                                  number_of_questions = 3,  inputEnable = False)"
   ]
  },
  {
   "cell_type": "code",
   "execution_count": 10,
   "id": "9cd44348",
   "metadata": {
    "execution": {
     "iopub.execute_input": "2025-04-21T06:16:43.040245Z",
     "iopub.status.busy": "2025-04-21T06:16:43.040031Z",
     "iopub.status.idle": "2025-04-21T06:16:55.280687Z",
     "shell.execute_reply": "2025-04-21T06:16:55.279827Z"
    },
    "papermill": {
     "duration": 12.247124,
     "end_time": "2025-04-21T06:16:55.281813",
     "exception": false,
     "start_time": "2025-04-21T06:16:43.034689",
     "status": "completed"
    },
    "tags": []
   },
   "outputs": [
    {
     "name": "stdout",
     "output_type": "stream",
     "text": [
      "🧠 TOEFL Reading Quiz - Powered by Gemini\n",
      "\n",
      "Question 1: What is the main topic explored in the passage?\n",
      "A. The impact of the Glomar Challenger on oceanographic research.\n",
      "B. The reasons for invertebrate fauna changes in the Mediterranean Sea.\n",
      "C. The methodology for dating geological events using sediment samples.\n",
      "D. The hypothesis that the Mediterranean Sea was once a desert.\n",
      "❌ Incorrect. The correct answer was D.\n",
      "Explanation: Option D is correct because the passage primarily discusses the investigation into the geological history of the Mediterranean, culminating in the theory that it was once a desert based on collected evidence.\n",
      "------------------------------------------------------------\n",
      "Question 2: According to the passage, which finding directly supported the hypothesis of a desert environment in the Mediterranean basin?\n",
      "A. The discovery of volcanic rock fragments.\n",
      "B. The presence of tiny marine fossils in sediment layers.\n",
      "C.  The peculiar composition and structure of the gypsum.\n",
      "D. The identification of hardened sediment and deep-sea mud.\n",
      "❌ Incorrect. The correct answer was C.\n",
      "Explanation: Option C is correct because the passage states that the gypsum's 'peculiarities of composition and structure' suggested it formed on desert flats, directly supporting the desert hypothesis.\n",
      "------------------------------------------------------------\n",
      "Question 3: What event, according to the passage, led to a major shift in the Mediterranean environment approximately 5.5 million years ago?\n",
      "A. A significant volcanic eruption in the region.\n",
      "B.  The opening of the Strait of Gibraltar allowing water inflow from the Atlantic.\n",
      "C.  A global decrease in sea levels affecting all ocean basins.\n",
      "D.  The continuous accumulation of oceanic ooze on the seafloor.\n",
      "❌ Incorrect. The correct answer was B.\n",
      "Explanation: Option B is correct because the passage describes that 'about 5.5 million years ago came the deluge' when the Strait of Gibraltar opened, causing water from the Atlantic to cascade back into the Mediterranean.\n",
      "------------------------------------------------------------\n",
      "\n",
      "🎯 Your final score: 0 / 3\n"
     ]
    }
   ],
   "source": [
    "GenerateQuestionsFromDocumentFile(document_filepath = '/kaggle/input/Sample_3_Text.pdf',\n",
    "                                  number_of_questions = 3,  inputEnable = False)"
   ]
  },
  {
   "cell_type": "markdown",
   "id": "4b8822e6",
   "metadata": {
    "papermill": {
     "duration": 0.004636,
     "end_time": "2025-04-21T06:16:55.291786",
     "exception": false,
     "start_time": "2025-04-21T06:16:55.287150",
     "status": "completed"
    },
    "tags": []
   },
   "source": [
    "# Capacity 2: Context Catching Youtube Transcript Understanding & Structured output/JSON mode/controlled generation & Few Shot"
   ]
  },
  {
   "cell_type": "code",
   "execution_count": 11,
   "id": "545f0f02",
   "metadata": {
    "execution": {
     "iopub.execute_input": "2025-04-21T06:16:55.302827Z",
     "iopub.status.busy": "2025-04-21T06:16:55.302241Z",
     "iopub.status.idle": "2025-04-21T06:16:55.310730Z",
     "shell.execute_reply": "2025-04-21T06:16:55.310164Z"
    },
    "papermill": {
     "duration": 0.015148,
     "end_time": "2025-04-21T06:16:55.311782",
     "exception": false,
     "start_time": "2025-04-21T06:16:55.296634",
     "status": "completed"
    },
    "tags": []
   },
   "outputs": [],
   "source": [
    "# Youtube Transcript API\n",
    "from youtube_transcript_api import YouTubeTranscriptApi\n",
    "from youtube_transcript_api.formatters import TextFormatter"
   ]
  },
  {
   "cell_type": "markdown",
   "id": "8ca5b4c0",
   "metadata": {
    "papermill": {
     "duration": 0.004782,
     "end_time": "2025-04-21T06:16:55.322317",
     "exception": false,
     "start_time": "2025-04-21T06:16:55.317535",
     "status": "completed"
    },
    "tags": []
   },
   "source": [
    "## 🎥 YouTube Transcript Extractor: `get_youtube_transcript(youtube_url)`\n",
    "\n",
    "This function retrieves the **transcript (closed captions)** from a given YouTube video and returns the full text as a single clean string.\n",
    "\n",
    "### 🔍 Function Parameters:\n",
    "- `youtube_url` (`str`): The full URL of a YouTube video (e.g., `https://www.youtube.com/watch?v=abc123XYZ`).\n",
    "\n",
    "### 🔁 What It Does:\n",
    "1. **Extracts the Video ID**:\n",
    "   - Parses the YouTube video URL to obtain the video ID required by the transcript API.\n",
    "\n",
    "2. **Fetches the Transcript**:\n",
    "   - Uses the `YouTubeTranscriptApi` to get the list of subtitle segments.\n",
    "\n",
    "3. **Concatenates All Text**:\n",
    "   - Joins the subtitle segments into a single string.\n",
    "   - Removes line breaks and leading/trailing spaces.\n",
    "\n",
    "4. **Handles Errors Gracefully**:\n",
    "   - If no transcript is found or an error occurs, it prints the error and returns `None`.\n",
    "\n",
    "### 🧠 Use Case:\n",
    "This function is especially useful for feeding **spoken academic content** (e.g., TED Talks, lectures) into the **TOEFL question generation pipeline**. It can serve as an alternative input source to PDFs or plain text.\n",
    "\n",
    "### ⚠️ Notes:\n",
    "- The video must have manually uploaded or auto-generated **subtitles enabled**.\n",
    "- This function does not support videos without transcripts."
   ]
  },
  {
   "cell_type": "code",
   "execution_count": 12,
   "id": "e06c1245",
   "metadata": {
    "execution": {
     "iopub.execute_input": "2025-04-21T06:16:55.333205Z",
     "iopub.status.busy": "2025-04-21T06:16:55.332997Z",
     "iopub.status.idle": "2025-04-21T06:16:55.337360Z",
     "shell.execute_reply": "2025-04-21T06:16:55.336780Z"
    },
    "papermill": {
     "duration": 0.010758,
     "end_time": "2025-04-21T06:16:55.338287",
     "exception": false,
     "start_time": "2025-04-21T06:16:55.327529",
     "status": "completed"
    },
    "tags": []
   },
   "outputs": [],
   "source": [
    "def get_youtube_transcript(youtube_url):\n",
    "    \"\"\"\n",
    "    Retrieves the transcript from a YouTube video.\n",
    "\n",
    "    Args:\n",
    "        youtube_url (str): The URL of the YouTube video.\n",
    "\n",
    "    Returns:\n",
    "        str: The transcript of the video, or None if an error occurs.\n",
    "    \"\"\"\n",
    "    try:\n",
    "        video_id = youtube_url.split(\"v=\")[1].split(\"&\")[0]  # Extract video ID\n",
    "        transcript_list = YouTubeTranscriptApi.get_transcript(video_id)\n",
    "        concatenated_text = \" \".join([segment[\"text\"] for segment in transcript_list])\n",
    "        clean_text = concatenated_text.replace(\"\\n\", \" \").strip()\n",
    "        return clean_text\n",
    "    except Exception as e:\n",
    "        print(f\"Error fetching transcript: {e}\")\n",
    "        return None"
   ]
  },
  {
   "cell_type": "markdown",
   "id": "be6fdcd0",
   "metadata": {
    "papermill": {
     "duration": 0.005576,
     "end_time": "2025-04-21T06:16:55.349439",
     "exception": false,
     "start_time": "2025-04-21T06:16:55.343863",
     "status": "completed"
    },
    "tags": []
   },
   "source": [
    "## 🎧 Generate TOEFL Listening Questions from YouTube: `GenerateQuestions(youtube_url, number_of_questions=3, inputEnable=True)`\n",
    "\n",
    "This function generates a short set of **TOEFL-style listening comprehension questions** based on the transcript of a YouTube video.\n",
    "\n",
    "### 🔍 Function Parameters:\n",
    "- `youtube_url` (`str`): The URL of a YouTube video with captions enabled.\n",
    "- `number_of_questions` (`int`, default = 3): Number of multiple-choice questions to generate (currently fixed to 3 in the prompt).\n",
    "- `inputEnable` (`bool`, default = `True`): If `True`, prompts the user for answers; if `False`, randomly selects answers (simulation/testing mode).\n",
    "\n",
    "### ⚙️ What It Does:\n",
    "1. **Extracts the Transcript**:\n",
    "   - Calls `get_youtube_transcript()` to retrieve the full spoken content from the YouTube video.\n",
    "   - Returns an empty list if no transcript is found.\n",
    "\n",
    "2. **Builds a Listening Comprehension Prompt**:\n",
    "   - Sends the transcript to Gemini with a prompt that asks for questions focusing on:\n",
    "     - Main idea\n",
    "     - Supporting details\n",
    "     - Inference\n",
    "     - Speaker attitude or purpose\n",
    "   - Ensures structured output in JSON format with randomized answer positions.\n",
    "\n",
    "3. **Generates and Evaluates Questions**:\n",
    "   - Calls the Gemini model to generate the questions.\n",
    "   - Passes the response to `GenerateQuiz()` for interactive answering or automated evaluation.\n",
    "\n",
    "### 🎯 Capabilities Demonstrated:\n",
    "- ✅ Audio Understanding (via transcript proxy)\n",
    "- ✅ Structured Output (JSON)\n",
    "- ✅ Few-Shot Prompting with format examples\n",
    "- ✅ Controlled Generation and Answer Randomization\n",
    "\n",
    "This function turns any **educational or lecture-style YouTube video** into a dynamic TOEFL listening practice tool, enabling customized comprehension quizzes in seconds."
   ]
  },
  {
   "cell_type": "code",
   "execution_count": 13,
   "id": "60bd8cc8",
   "metadata": {
    "execution": {
     "iopub.execute_input": "2025-04-21T06:16:55.360843Z",
     "iopub.status.busy": "2025-04-21T06:16:55.360634Z",
     "iopub.status.idle": "2025-04-21T06:16:55.365012Z",
     "shell.execute_reply": "2025-04-21T06:16:55.364436Z"
    },
    "papermill": {
     "duration": 0.011207,
     "end_time": "2025-04-21T06:16:55.366232",
     "exception": false,
     "start_time": "2025-04-21T06:16:55.355025",
     "status": "completed"
    },
    "tags": []
   },
   "outputs": [],
   "source": [
    "\n",
    "def GenerateQuestions(youtube_url, number_of_questions = 3, inputEnable = True):\n",
    "    \"\"\"\n",
    "    Generates 3 English TOEFL-style questions (listening comprehension) based on a YouTube video.\n",
    "\n",
    "    Args:\n",
    "        youtube_url (str): The URL of the YouTube video.\n",
    "\n",
    "    Returns:\n",
    "        list: A list containing 3 TOEFL-style questions.  Returns an empty list on error.\n",
    "    \"\"\"\n",
    "\n",
    "    transcript = get_youtube_transcript(youtube_url)\n",
    "    if not transcript:\n",
    "        return []\n",
    "    \n",
    "    prompt_text = f\"\"\"\n",
    "    Generate 3 English TOEFL listening comprehension questions based on the content of the following transcript:\n",
    "\n",
    "    {transcript}\n",
    "    \n",
    "    Provide questions that assess the test-taker's ability to understand:\n",
    "\n",
    "    -   Main ideas\n",
    "    -   Details\n",
    "    -   Inferences\n",
    "    -   Purpose\n",
    "    -   Speaker attitude\n",
    "\n",
    "    Each question should follow this structure in JSON format:\n",
    "    [\n",
    "    {{\n",
    "        \"question\": \"What is the main idea of the passage?\",\n",
    "        \"options\": [\"A. ...\", \"B. ...\", \"C. ...\", \"D. ...\"],\n",
    "        \"answer\": \"B\",\n",
    "        \"explanation\": \"Option B is correct because it reflects the main argument of the video.\"\n",
    "    }},\n",
    "      ,\n",
    "    {{\n",
    "        \"question\": \"According to the video, what is one reason that supports more the main argument of the video?\",\n",
    "        \"options\": [\"A. ...\", \"B. ...\", \"C. ...\", \"D. ...\"],\n",
    "        \"answer\": \"D\",\n",
    "        \"explanation\": \"Option A is correct because it supports the main argument with facts.\"\n",
    "    }}\n",
    "      ...\n",
    "    ]\n",
    "\n",
    "    Important restrictions for the answers:\n",
    "    - Do not place the correct answer in the same position each time.\n",
    "    - Randomly shuffle the order of options per question.\n",
    "    - Avoid repeating the correct answer in the same letter position across multiple questions.\n",
    "    \n",
    "    \"\"\"\n",
    "\n",
    "    response = client.models.generate_content(\n",
    "              model='models/gemini-2.5-pro-exp-03-25',\n",
    "              config=types.GenerateContentConfig(temperature=2.0),\n",
    "              contents=[prompt_text]\n",
    "            )\n",
    "    GenerateQuiz(response, inputEnable)"
   ]
  },
  {
   "cell_type": "markdown",
   "id": "9dd3c585",
   "metadata": {
    "papermill": {
     "duration": 0.00472,
     "end_time": "2025-04-21T06:16:55.376426",
     "exception": false,
     "start_time": "2025-04-21T06:16:55.371706",
     "status": "completed"
    },
    "tags": []
   },
   "source": [
    "On this exercise, also you can input your youtube video URL if you have one. For this simulation we hardcode with the following video."
   ]
  },
  {
   "cell_type": "code",
   "execution_count": 14,
   "id": "c87877df",
   "metadata": {
    "execution": {
     "iopub.execute_input": "2025-04-21T06:16:55.386954Z",
     "iopub.status.busy": "2025-04-21T06:16:55.386730Z",
     "iopub.status.idle": "2025-04-21T06:17:27.301219Z",
     "shell.execute_reply": "2025-04-21T06:17:27.300357Z"
    },
    "papermill": {
     "duration": 31.970551,
     "end_time": "2025-04-21T06:17:27.351928",
     "exception": false,
     "start_time": "2025-04-21T06:16:55.381377",
     "status": "completed"
    },
    "tags": []
   },
   "outputs": [
    {
     "name": "stdout",
     "output_type": "stream",
     "text": [
      "🧠 TOEFL Reading Quiz - Powered by Gemini\n",
      "\n",
      "Question 1: What is the central topic discussed by the speaker?\n",
      "A. A scientific analysis of voice production and acoustics.\n",
      "B. Techniques and principles for speaking effectively and avoiding common communication barriers.\n",
      "C. The historical evolution of public speaking.\n",
      "D. A comparison of different vocal warm-up routines used by professionals.\n",
      "❌ Incorrect. The correct answer was B.\n",
      "Explanation: Option B is correct because the speaker focuses on both negative speaking habits ('deadly sins') to avoid and positive foundations (HAIL) and vocal techniques (register, timbre, prosody, etc.) to adopt for powerful speaking.\n",
      "------------------------------------------------------------\n",
      "Question 2: According to the speaker, why do people tend to prefer politicians with lower voices?\n",
      "A. Lower voices are perceived as warmer and more trustworthy.\n",
      "B. Politicians with lower voices tend to use less exaggeration.\n",
      "C. Deeper vocal registers are associated with power and authority.\n",
      "D. A lower pitch makes complex political arguments easier to understand.\n",
      "❌ Incorrect. The correct answer was C.\n",
      "Explanation: Option C is correct. The speaker explicitly states, 'We vote for politicians with lower voices, it's true, because we associate depth with power and with authority.'\n",
      "------------------------------------------------------------\n",
      "Question 3: Which of the following is NOT mentioned by the speaker as one of the 'seven deadly sins of speaking'?\n",
      "A. Judging\n",
      "B. Using filler words like 'um' and 'ah'\n",
      "C. Gossip\n",
      "D. Dogmatism\n",
      "❌ Incorrect. The correct answer was B.\n",
      "Explanation: Option B is correct. While the speaker mentions avoiding 'ums and ahs' when discussing silence and pace, using filler words is not listed as one of the specific 'seven deadly sins'. The sins mentioned are gossip, judging, negativity, complaining, excuses, exaggeration/embroidery, and dogmatism.\n",
      "------------------------------------------------------------\n",
      "\n",
      "🎯 Your final score: 0 / 3\n"
     ]
    }
   ],
   "source": [
    "#youtube_url = input(\"Youtube Video URL: \")\n",
    "youtube_url = \"https://www.youtube.com/watch?v=eIho2S0ZahI\"\n",
    "GenerateQuestions(youtube_url, inputEnable = False)"
   ]
  },
  {
   "cell_type": "markdown",
   "id": "58e8dbbe",
   "metadata": {
    "papermill": {
     "duration": 0.004843,
     "end_time": "2025-04-21T06:17:27.361721",
     "exception": false,
     "start_time": "2025-04-21T06:17:27.356878",
     "status": "completed"
    },
    "tags": []
   },
   "source": [
    "# Capacity 3: Image Understanding & Structured output/JSON mode/controlled generation & Few Shot"
   ]
  },
  {
   "cell_type": "markdown",
   "id": "c8b3d979",
   "metadata": {
    "papermill": {
     "duration": 0.004771,
     "end_time": "2025-04-21T06:17:27.371352",
     "exception": false,
     "start_time": "2025-04-21T06:17:27.366581",
     "status": "completed"
    },
    "tags": []
   },
   "source": [
    "## 🖼️ Generate TOEFL Questions from Image: `GenerateQuestionsFromImage(image_filepath, number_of_questions=3, inputEnable=True)`\n",
    "\n",
    "This function enables the generation of **TOEFL-style multiple-choice questions** based on the **content of an image** — useful for infographics, diagrams, or labeled visuals in academic contexts.\n",
    "\n",
    "### 🔍 Function Parameters:\n",
    "- `image_filepath` (`str`): Path to the image file (e.g., JPEG, PNG).\n",
    "- `number_of_questions` (`int`, default = 3): Number of questions to be generated.\n",
    "- `inputEnable` (`bool`, default = `True`):  \n",
    "  - If `True`, the user manually answers each question.  \n",
    "  - If `False`, answers are randomly selected (for automated testing/simulation).\n",
    "\n",
    "### ⚙️ What It Does:\n",
    "1. **Uploads the Image**:\n",
    "   - Uses the Gemini file upload API to send the image for visual analysis.\n",
    "\n",
    "2. **Builds the Prompt**:\n",
    "   - Asks the model to interpret the image and generate multiple-choice questions based on its content.\n",
    "   - Provides a JSON-format example to guide the structure of the output.\n",
    "   - Includes constraints to randomize the placement of the correct answer across different questions.\n",
    "\n",
    "3. **Generates & Evaluates Questions**:\n",
    "   - Calls Gemini to produce questions about image content (e.g., observation, inference, details).\n",
    "   - Uses `GenerateQuiz()` to evaluate the questions through user input or random simulation.\n",
    "\n",
    "### 📦 Capabilities Demonstrated:\n",
    "- ✅ Image Understanding (Visual Analysis)\n",
    "- ✅ Structured Output in JSON\n",
    "- ✅ Controlled Generation (Randomized answers, clear format)\n",
    "- ✅ Few-Shot Prompting (Format guidance via examples)\n",
    "\n",
    "This function expands the project to support **visual learning materials**, enabling rich TOEFL-style comprehension practice from figures, charts, or academic illustrations.\n"
   ]
  },
  {
   "cell_type": "code",
   "execution_count": 15,
   "id": "09dcd2e0",
   "metadata": {
    "execution": {
     "iopub.execute_input": "2025-04-21T06:17:27.382022Z",
     "iopub.status.busy": "2025-04-21T06:17:27.381808Z",
     "iopub.status.idle": "2025-04-21T06:17:27.386554Z",
     "shell.execute_reply": "2025-04-21T06:17:27.385812Z"
    },
    "papermill": {
     "duration": 0.011399,
     "end_time": "2025-04-21T06:17:27.387593",
     "exception": false,
     "start_time": "2025-04-21T06:17:27.376194",
     "status": "completed"
    },
    "tags": []
   },
   "outputs": [],
   "source": [
    "def GenerateQuestionsFromImage(image_filepath, number_of_questions = 3, inputEnable = True):\n",
    "\n",
    "    image_file = client.files.upload(file=image_filepath)\n",
    "    \n",
    "    # Ask the model to generate a transcript of the audio\n",
    "    prompt_for_image = \"\"\"\n",
    "    You are a TOEFL reading assistant. Based on the following image, create {0} multiple choice questions. \n",
    "    \n",
    "    Each question should follow this structure in JSON format:\n",
    "    [\n",
    "    {{\n",
    "        \"question\": \"What is the best option that describes the image?\",\n",
    "        \"options\": [\"A. ...\", \"B. ...\", \"C. ...\", \"D. ...\"],\n",
    "        \"answer\": \"B\",\n",
    "        \"explanation\": \"Option B is correct because it reflects the main argument of the passage.\"\n",
    "    }},\n",
    "      ,\n",
    "    {{\n",
    "        \"question\": \"According to the image, describe more about the item at the right?\",\n",
    "        \"options\": [\"A. ...\", \"B. ...\", \"C. ...\", \"D. ...\"],\n",
    "        \"answer\": \"D\",\n",
    "        \"explanation\": \"Option A is correct because it supports the main argument with facts.\"\n",
    "    }}\n",
    "      ...\n",
    "    ]\n",
    "\n",
    "    Important restrictions for the answers:\n",
    "    - Do not place the correct answer in the same position each time.\n",
    "    - Randomly shuffle the order of options per question.\n",
    "    - Avoid repeating the correct answer in the same letter position across multiple questions.\n",
    "    \n",
    "    Image:\n",
    "    {1}\n",
    "    \"\"\".format(number_of_questions, image_file)\n",
    "\n",
    "    # Run the prompt and audio through the model\n",
    "    response = client.models.generate_content(\n",
    "      model='gemini-2.0-flash-thinking-exp',\n",
    "      config=types.GenerateContentConfig(temperature=2.0),\n",
    "      contents=[prompt_for_image, image_file]\n",
    "    )\n",
    "\n",
    "    GenerateQuiz(response, inputEnable)"
   ]
  },
  {
   "cell_type": "code",
   "execution_count": 16,
   "id": "fa94b0e5",
   "metadata": {
    "execution": {
     "iopub.execute_input": "2025-04-21T06:17:27.398252Z",
     "iopub.status.busy": "2025-04-21T06:17:27.398008Z",
     "iopub.status.idle": "2025-04-21T06:17:38.687569Z",
     "shell.execute_reply": "2025-04-21T06:17:38.686598Z"
    },
    "papermill": {
     "duration": 11.296114,
     "end_time": "2025-04-21T06:17:38.688616",
     "exception": false,
     "start_time": "2025-04-21T06:17:27.392502",
     "status": "completed"
    },
    "tags": []
   },
   "outputs": [
    {
     "name": "stdout",
     "output_type": "stream",
     "text": [
      "🧠 TOEFL Reading Quiz - Powered by Gemini\n",
      "\n",
      "Question 1: What is the primary activity depicted in the image?\n",
      "A. Children engaged in a classroom lesson.\n",
      "B. A group of friends enjoying an outdoor celebration.\n",
      "C. A family having a quiet picnic in a garden.\n",
      "D. Students rehearsing for a musical performance.\n",
      "❌ Incorrect. The correct answer was B.\n",
      "Explanation: Option B is the most accurate description because the image shows a lively outdoor party scene with children playing and an adult playing music, suggesting a celebration or joyful gathering.\n",
      "------------------------------------------------------------\n",
      "Question 2: According to the image, what is the role of the adult figure in the scene?\n",
      "A. To supervise and ensure the children's safety.\n",
      "B. To teach the children a new game or activity.\n",
      "C. To entertain the children with music.\n",
      "D. To serve refreshments and food to the children.\n",
      "❌ Incorrect. The correct answer was C.\n",
      "Explanation: Option C best describes the adult's action as they are playing a guitar, which is clearly visible in the image. This indicates they are providing entertainment through music for the children at the gathering.\n",
      "------------------------------------------------------------\n",
      "Question 3: What is the overall mood or atmosphere conveyed by the image?\n",
      "A.  Peaceful and serene.\n",
      "B.  Formal and structured.\n",
      "C.  Lively and joyous.\n",
      "D.  Serious and contemplative.\n",
      "❌ Incorrect. The correct answer was C.\n",
      "Explanation: Option C accurately captures the atmosphere of the image. The children's playful activities, smiles, and the festive decorations suggest a lively and joyous mood typical of a party or celebration.\n",
      "------------------------------------------------------------\n",
      "\n",
      "🎯 Your final score: 0 / 3\n"
     ]
    }
   ],
   "source": [
    "GenerateQuestionsFromImage('/kaggle/input/Toefl_Image_Sample_1.jpg', inputEnable = False)"
   ]
  },
  {
   "cell_type": "code",
   "execution_count": 17,
   "id": "cfffe426",
   "metadata": {
    "execution": {
     "iopub.execute_input": "2025-04-21T06:17:38.700373Z",
     "iopub.status.busy": "2025-04-21T06:17:38.700155Z",
     "iopub.status.idle": "2025-04-21T06:17:47.495890Z",
     "shell.execute_reply": "2025-04-21T06:17:47.494878Z"
    },
    "papermill": {
     "duration": 8.803076,
     "end_time": "2025-04-21T06:17:47.497436",
     "exception": false,
     "start_time": "2025-04-21T06:17:38.694360",
     "status": "completed"
    },
    "tags": []
   },
   "outputs": [
    {
     "name": "stdout",
     "output_type": "stream",
     "text": [
      "🧠 TOEFL Reading Quiz - Powered by Gemini\n",
      "\n",
      "Question 1: What is the primary subject of the image?\n",
      "A. A construction site\n",
      "B. An airport scene\n",
      "C. A parking lot\n",
      "D. A train station\n",
      "❌ Incorrect. The correct answer was B.\n",
      "Explanation: Option B is the most accurate description because the image clearly depicts an airplane connected to a jet bridge at what appears to be an airport terminal. The presence of ground personnel and airport markings further confirms this.\n",
      "------------------------------------------------------------\n",
      "Question 2: According to the image, what is the likely purpose of the extended structure connected to the airplane?\n",
      "A. To refuel the airplane\n",
      "B. To load cargo containers\n",
      "C. To allow passengers to board or deboard\n",
      "D. To provide shade for ground crew\n",
      "❌ Incorrect. The correct answer was C.\n",
      "Explanation: Option C is correct because the extended structure is a jet bridge or passenger boarding bridge, designed to connect the terminal building directly to the aircraft door, facilitating passenger movement.\n",
      "------------------------------------------------------------\n",
      "Question 3: Based on the image, what is the most probable activity taking place around the airplane?\n",
      "A. Routine baggage handling operations\n",
      "B. Major engine repair\n",
      "C. Pre-flight preparations or post-flight procedures\n",
      "D. Emergency evacuation drill\n",
      "❌ Incorrect. The correct answer was C.\n",
      "Explanation: Option C is the best choice as the presence of ground crew and equipment near a plane docked at a jet bridge suggests activities related to the arrival or departure of a flight, such as final checks, minor servicing, or preparations for the next flight. Options A and B are less likely based on the visual context, and D is not suggested by the typical airport environment shown.\n",
      "------------------------------------------------------------\n",
      "\n",
      "🎯 Your final score: 0 / 3\n"
     ]
    }
   ],
   "source": [
    "GenerateQuestionsFromImage('/kaggle/input/Toefl_Image_Sample_2.jpg', inputEnable = False)"
   ]
  },
  {
   "cell_type": "code",
   "execution_count": 18,
   "id": "2cb8041e",
   "metadata": {
    "execution": {
     "iopub.execute_input": "2025-04-21T06:17:47.509156Z",
     "iopub.status.busy": "2025-04-21T06:17:47.508962Z",
     "iopub.status.idle": "2025-04-21T06:17:55.722567Z",
     "shell.execute_reply": "2025-04-21T06:17:55.721703Z"
    },
    "papermill": {
     "duration": 8.220452,
     "end_time": "2025-04-21T06:17:55.723588",
     "exception": false,
     "start_time": "2025-04-21T06:17:47.503136",
     "status": "completed"
    },
    "tags": []
   },
   "outputs": [
    {
     "name": "stdout",
     "output_type": "stream",
     "text": [
      "🧠 TOEFL Reading Quiz - Powered by Gemini\n",
      "\n",
      "Question 1: What is the most appropriate description of the activity shown in the image?\n",
      "A. A family preparing food in the kitchen.\n",
      "B. A family enjoying a meal together at home.\n",
      "C. A group of friends having a picnic outdoors.\n",
      "D.  People ordering food at a restaurant.\n",
      "❌ Incorrect. The correct answer was B.\n",
      "Explanation: Option B accurately describes the image as it depicts a family sitting around a table filled with food in a home setting and engaging in a mealtime.\n",
      "------------------------------------------------------------\n",
      "Question 2: Based on the image, which statement is most likely true about the food on the table?\n",
      "A. The food primarily consists of desserts and pastries.\n",
      "B. The meal appears to be lacking in vegetables and fruits.\n",
      "C. The food includes a variety of dishes such as salads and grain-based items.\n",
      "D. The food seems to be exclusively fast food and fried snacks.\n",
      "❌ Incorrect. The correct answer was C.\n",
      "Explanation: Option C is the most accurate as the image shows dishes containing salads (green vegetables and mixed ingredients in bowls), grain-based items (like the rice or grain bowl), and potentially other healthy food choices.\n",
      "------------------------------------------------------------\n",
      "Question 3: What is the general atmosphere or mood conveyed by the scene in the image?\n",
      "A. Tense and serious.\n",
      "B. Festive and celebratory.\n",
      "C. Calm and indifferent.\n",
      "D. Joyful and convivial.\n",
      "❌ Incorrect. The correct answer was D.\n",
      "Explanation: Option D is the best choice because the family members are smiling, interacting, and appear to be enjoying each other's company, suggesting a joyful and convivial atmosphere.\n",
      "------------------------------------------------------------\n",
      "\n",
      "🎯 Your final score: 0 / 3\n"
     ]
    }
   ],
   "source": [
    "GenerateQuestionsFromImage('/kaggle/input/Toefl_Image_Sample_3.jpg', inputEnable = False)"
   ]
  },
  {
   "cell_type": "markdown",
   "id": "68ce5ae3",
   "metadata": {
    "papermill": {
     "duration": 0.005221,
     "end_time": "2025-04-21T06:17:55.734534",
     "exception": false,
     "start_time": "2025-04-21T06:17:55.729313",
     "status": "completed"
    },
    "tags": []
   },
   "source": [
    "# Capacity 4: Audio Understanding & Structured output/JSON mode/controlled generation & Few Shot"
   ]
  },
  {
   "cell_type": "markdown",
   "id": "21f8d4fd",
   "metadata": {
    "papermill": {
     "duration": 0.004938,
     "end_time": "2025-04-21T06:17:55.744607",
     "exception": false,
     "start_time": "2025-04-21T06:17:55.739669",
     "status": "completed"
    },
    "tags": []
   },
   "source": [
    "## 🎙️ Speaking Evaluation from Audio: `GenerateQuestionsFromAudio(audio_filepath)`\n",
    "\n",
    "This function analyzes a user's **spoken response** (e.g., from a TOEFL speaking task) and provides a **concise automated evaluation**, including a score estimate and improvement suggestions.\n",
    "\n",
    "### 🔍 Function Parameters:\n",
    "- `audio_filepath` (`str`): Path to an audio file containing the user's spoken response (e.g., `.mp3`, `.wav`).\n",
    "\n",
    "### ⚙️ What It Does:\n",
    "1. **Uploads the Audio**:\n",
    "   - Sends the user’s recorded speaking sample to Gemini using the audio file upload API.\n",
    "\n",
    "2. **Builds a Prompt for Speaking Feedback**:\n",
    "   - Instructs Gemini to evaluate the speech sample based on TOEFL criteria (clarity, fluency, coherence).\n",
    "   - Asks for a concise report with:\n",
    "     - An estimated score range\n",
    "     - Key strengths\n",
    "     - Areas for improvement in bullet-point format\n",
    "\n",
    "3. **Displays the Feedback**:\n",
    "   - The feedback is printed to the console or notebook output, simulating a real TOEFL speaking review.\n",
    "\n",
    "### 🧠 Use Case:\n",
    "This tool acts like a **TOEFL speaking coach**, giving learners instant feedback after practicing a speaking task — useful for self-assessment and progress tracking.\n",
    "\n",
    "### ✅ Capabilities Demonstrated:\n",
    "- ✅ Audio Understanding (Speech evaluation)\n",
    "- ✅ Controlled Generation (Score + feedback format)\n",
    "- ✅ Structured Output for actionable self-improvement\n",
    "\n",
    "This function helps learners reflect on their oral performance, improve pronunciation, pacing, and delivery — all critical for succeeding on the TOEFL Speaking section.\n"
   ]
  },
  {
   "cell_type": "code",
   "execution_count": 19,
   "id": "0193287e",
   "metadata": {
    "execution": {
     "iopub.execute_input": "2025-04-21T06:17:55.755918Z",
     "iopub.status.busy": "2025-04-21T06:17:55.755671Z",
     "iopub.status.idle": "2025-04-21T06:17:55.759710Z",
     "shell.execute_reply": "2025-04-21T06:17:55.759139Z"
    },
    "papermill": {
     "duration": 0.011124,
     "end_time": "2025-04-21T06:17:55.760844",
     "exception": false,
     "start_time": "2025-04-21T06:17:55.749720",
     "status": "completed"
    },
    "tags": []
   },
   "outputs": [],
   "source": [
    "def GenerateQuestionsFromAudio(audio_filepath):\n",
    "\n",
    "    audio_file = client.files.upload(file=audio_filepath)\n",
    "    \n",
    "    # Ask the model to generate a transcript of the audio\n",
    "    prompt_for_audio = \"\"\"\n",
    "    You are a TOEFL reading assistant. Based on the following audio, score my speaking and suggest me to improve my speaking and be very concise.\n",
    "\n",
    "    Follow this structure:\n",
    "    Based on your audio, here's a concise score and feedback to improve your speaking:\n",
    "\n",
    "    **Score:**\n",
    "\n",
    "    Your speaking seems to be in the **Good** range (estimated TOEFL Speaking score: Range of Scores out of 30).\n",
    "    \n",
    "    **Strengths:**:\n",
    "\n",
    "    ....\n",
    "\n",
    "    **Areas for Improvement (Concise Tips):**\n",
    "\n",
    "    ...\n",
    "    \n",
    "    Audio:\n",
    "    {0}\n",
    "    \"\"\".format(audio_file)\n",
    "\n",
    "    # Run the prompt and audio through the model\n",
    "    response = client.models.generate_content(\n",
    "      model='gemini-2.0-flash-thinking-exp',\n",
    "      config=types.GenerateContentConfig(temperature=1.5),\n",
    "      contents=[prompt_for_audio, audio_file]\n",
    "    )\n",
    "    print(response.text)"
   ]
  },
  {
   "cell_type": "code",
   "execution_count": 20,
   "id": "e79d4d15",
   "metadata": {
    "execution": {
     "iopub.execute_input": "2025-04-21T06:17:55.774059Z",
     "iopub.status.busy": "2025-04-21T06:17:55.773817Z",
     "iopub.status.idle": "2025-04-21T06:18:01.806161Z",
     "shell.execute_reply": "2025-04-21T06:18:01.805280Z"
    },
    "papermill": {
     "duration": 6.03995,
     "end_time": "2025-04-21T06:18:01.807467",
     "exception": false,
     "start_time": "2025-04-21T06:17:55.767517",
     "status": "completed"
    },
    "tags": []
   },
   "outputs": [
    {
     "name": "stdout",
     "output_type": "stream",
     "text": [
      "Based on your audio, here's a concise score and feedback to improve your speaking:\n",
      "\n",
      "**Score:**\n",
      "\n",
      "Your speaking seems to be in the **Good** range (estimated TOEFL Speaking score: 20-25 out of 30).\n",
      "\n",
      "**Strengths:**:\n",
      "\n",
      "*   **Clear Pronunciation**: You pronounce words clearly, making it easy to understand you.\n",
      "*   **Fluent Pace**: Your speaking pace is natural and smooth, without excessive hesitations.\n",
      "*   **Good Grammar and Vocabulary**: You use correct grammar and appropriate vocabulary for the topic presented in the audio.\n",
      "\n",
      "**Areas for Improvement (Concise Tips):**\n",
      "\n",
      "*   **Enhance Intonation**: Vary your intonation more to emphasize key words and phrases. This will make your speaking sound more engaging and less monotone. Try to express emotion and importance through your voice modulation.\n"
     ]
    }
   ],
   "source": [
    "GenerateQuestionsFromAudio('/kaggle/input/b1_audio.mp3')"
   ]
  },
  {
   "cell_type": "code",
   "execution_count": 21,
   "id": "69f157b3",
   "metadata": {
    "execution": {
     "iopub.execute_input": "2025-04-21T06:18:01.821139Z",
     "iopub.status.busy": "2025-04-21T06:18:01.820865Z",
     "iopub.status.idle": "2025-04-21T06:18:11.304358Z",
     "shell.execute_reply": "2025-04-21T06:18:11.303381Z"
    },
    "papermill": {
     "duration": 9.492303,
     "end_time": "2025-04-21T06:18:11.305649",
     "exception": false,
     "start_time": "2025-04-21T06:18:01.813346",
     "status": "completed"
    },
    "tags": []
   },
   "outputs": [
    {
     "name": "stdout",
     "output_type": "stream",
     "text": [
      "Based on your audio, here's a concise score and feedback to improve your speaking:\n",
      "\n",
      "**Score:**\n",
      "\n",
      "Your speaking seems to be in the **Good** range (estimated TOEFL Speaking score: 23-27 out of 30).\n",
      "\n",
      "**Strengths:**\n",
      "\n",
      "*   **Clear Pronunciation:** You articulated words clearly and understandably.\n",
      "*   **Smooth Pacing:**  Your reading speed is well-paced and easy to follow.\n",
      "*   **Appropriate Intonation:** You demonstrated a good understanding of sentence structure with your intonation.\n",
      "*   **Vocabulary Handling:** You navigated academic vocabulary related to climate change effectively.\n",
      "\n",
      "**Areas for Improvement (Concise Tips):**\n",
      "\n",
      "*   **Enhance Naturalness:** Practice speaking more conversationally rather than just reading aloud. Try to internalize the content to sound less like reading and more like explaining.\n",
      "*   **Focus on Extempore Speaking:**  Shift practice to responding to prompts without pre-written text to better simulate actual TOEFL speaking tasks.\n",
      "*   **Vary Intonation Further:**  While good, pushing intonation to sound more engaging and less monotonous, even during reading, can further improve delivery.\n"
     ]
    }
   ],
   "source": [
    "GenerateQuestionsFromAudio('/kaggle/input/b2_audio.mp3')"
   ]
  },
  {
   "cell_type": "code",
   "execution_count": 22,
   "id": "f3d2715d",
   "metadata": {
    "execution": {
     "iopub.execute_input": "2025-04-21T06:18:11.317974Z",
     "iopub.status.busy": "2025-04-21T06:18:11.317699Z",
     "iopub.status.idle": "2025-04-21T06:18:18.620038Z",
     "shell.execute_reply": "2025-04-21T06:18:18.618953Z"
    },
    "papermill": {
     "duration": 7.309717,
     "end_time": "2025-04-21T06:18:18.621201",
     "exception": false,
     "start_time": "2025-04-21T06:18:11.311484",
     "status": "completed"
    },
    "tags": []
   },
   "outputs": [
    {
     "name": "stdout",
     "output_type": "stream",
     "text": [
      "Based on your audio, here's a concise score and feedback to improve your speaking:\n",
      "\n",
      "**Score:**\n",
      "\n",
      "Your speaking seems to be in the **Good** range (estimated TOEFL Speaking score: 23-26 out of 30).\n",
      "\n",
      "**Strengths:**\n",
      "\n",
      "*   **Pronunciation:** You have clear pronunciation and are easily understandable.\n",
      "*   **Pacing:** Your pace is generally good and allows listeners to follow.\n",
      "*   **Fluency:** You speak smoothly without excessive hesitations or pauses in reading this passage.\n",
      "\n",
      "**Areas for Improvement (Concise Tips):**\n",
      "\n",
      "*   **Intonation:**  Incorporate more natural intonation. Vary your pitch to emphasize key words and phrases instead of reading in a monotone.\n",
      "*   **Expression:** Add more expression to your voice. Imagine you are explaining this topic to someone and inject some enthusiasm or engagement.\n",
      "*   **Pauses:**  Use pauses strategically for emphasis and to create a more conversational flow, rather than just pausing at sentence endings.\n"
     ]
    }
   ],
   "source": [
    "GenerateQuestionsFromAudio('/kaggle/input/b3_audio.mp3')"
   ]
  }
 ],
 "metadata": {
  "kaggle": {
   "accelerator": "none",
   "dataSources": [
    {
     "datasetId": 7202843,
     "sourceId": 11494602,
     "sourceType": "datasetVersion"
    }
   ],
   "dockerImageVersionId": 31012,
   "isGpuEnabled": false,
   "isInternetEnabled": true,
   "language": "python",
   "sourceType": "notebook"
  },
  "kernelspec": {
   "display_name": "Python 3",
   "language": "python",
   "name": "python3"
  },
  "language_info": {
   "codemirror_mode": {
    "name": "ipython",
    "version": 3
   },
   "file_extension": ".py",
   "mimetype": "text/x-python",
   "name": "python",
   "nbconvert_exporter": "python",
   "pygments_lexer": "ipython3",
   "version": "3.11.11"
  },
  "papermill": {
   "default_parameters": {},
   "duration": 133.675061,
   "end_time": "2025-04-21T06:18:19.144896",
   "environment_variables": {},
   "exception": null,
   "input_path": "__notebook__.ipynb",
   "output_path": "__notebook__.ipynb",
   "parameters": {},
   "start_time": "2025-04-21T06:16:05.469835",
   "version": "2.6.0"
  }
 },
 "nbformat": 4,
 "nbformat_minor": 5
}
